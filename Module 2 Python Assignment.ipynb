{
 "cells": [
  {
   "cell_type": "markdown",
   "id": "7f8de0a3-4e2d-4ba9-ac75-0c9830cf90b9",
   "metadata": {},
   "source": [
    "# Ques 1. Explain the key featues of Python that make it a popular choice for programming."
   ]
  },
  {
   "cell_type": "markdown",
   "id": "488d2719-68c6-4328-a4a2-689da6f436ae",
   "metadata": {},
   "source": [
    "### Ans 1. The key featues of Python that make it a popular choice for programming are as following:\n",
    "###          (a) Easy to Learn: Python has a simple syntax and is relatively easy to read and write, making it is a great language for beginners.\n",
    "###          (b) High-Level Language: Python is a high-level language, meaning it abstracts away many low-level details, allowing developers to focus on the logic of their program without worrying about memory management, etc.\n",
    "###          (c) Interpreted Language: Python code is interpreted rather than compiled, making it easier to write and test code quickly.\n",
    "###          (d) Object-Oriented: Python supports object-oriented programming (OOP) paradigms, making it easy to write reusable and modular code.\n",
    "###          (e) Cross-Platform: Python can run on multiple operating systems, including Windows, macOS, and Linux.\n",
    "###          (f) Large Community: Python has a vast and active community, ensuring there are many resources available for learning and troubleshooting in google and many open source.\n",
    "###          (g) Versatility: Python can be used for a wide range of applications, such as web development, data analysis, machine learning, automation, and more.\n",
    "###          (h) Extensive Libraries and Frameworks: Python has a wide range of libraries(more than 137,000 Python libraries) and frameworks that make it easy to work with data, build web applications, and more."
   ]
  },
  {
   "cell_type": "code",
   "execution_count": null,
   "id": "9726047e-9293-4c56-b5c1-7b8e8389be4a",
   "metadata": {},
   "outputs": [],
   "source": []
  },
  {
   "cell_type": "code",
   "execution_count": null,
   "id": "3bc46713-67db-4dc1-be15-fbc60be5e2d5",
   "metadata": {},
   "outputs": [],
   "source": []
  },
  {
   "cell_type": "markdown",
   "id": "ef57e1ce-fbae-4c0f-acaf-260245bbce17",
   "metadata": {},
   "source": [
    "# Ques 2. Describe the role of predefined keywords in Python and provide examples of how they are used in a program."
   ]
  },
  {
   "cell_type": "markdown",
   "id": "bbde0399-b07f-4bb6-91be-e76991c9c537",
   "metadata": {},
   "source": [
    "### Ans 2. Predefined keywords in Python are reserved words that have special meanings and are used to define the structure and logic of a program. They cannot be used as variable names or identifiers. Here are some examples of predefined keywords in Python and how they are used in a program:\n",
    "### (a) if, else: Used for conditional statements to execute different blocks of code based on conditions."
   ]
  },
  {
   "cell_type": "code",
   "execution_count": 1,
   "id": "391f130a-b10b-4f19-8642-58597041124f",
   "metadata": {},
   "outputs": [
    {
     "name": "stdout",
     "output_type": "stream",
     "text": [
      "x is greater\n"
     ]
    }
   ],
   "source": [
    "x = 14\n",
    "if x > 10:\n",
    "    print(\"x is greater\")\n",
    "else:\n",
    "    print(\"x is lesser\")"
   ]
  },
  {
   "cell_type": "markdown",
   "id": "a313ce1e-eb89-47ba-98ba-ff483c40d0c0",
   "metadata": {},
   "source": [
    "### (b) for, while: Used for loops to iterate over sequences or execute a block of code repeatedly."
   ]
  },
  {
   "cell_type": "code",
   "execution_count": 3,
   "id": "e0de5e31-6fc1-4058-8395-c04eab700173",
   "metadata": {},
   "outputs": [
    {
     "name": "stdout",
     "output_type": "stream",
     "text": [
      "apple\n",
      "banana\n",
      "cherry\n"
     ]
    }
   ],
   "source": [
    "fruits = [\"apple\", \"banana\", \"cherry\"]\n",
    "for fruit in fruits:\n",
    "    print(fruit)"
   ]
  },
  {
   "cell_type": "code",
   "execution_count": 4,
   "id": "e8a21791-a5a1-451b-b1c7-51b218e50b2c",
   "metadata": {},
   "outputs": [
    {
     "name": "stdout",
     "output_type": "stream",
     "text": [
      "0\n",
      "1\n",
      "2\n",
      "3\n",
      "4\n"
     ]
    }
   ],
   "source": [
    "i = 0\n",
    "while i < 5:\n",
    "    print(i)\n",
    "    i += 1"
   ]
  },
  {
   "cell_type": "markdown",
   "id": "260ea531-dde4-4d6c-8020-c5ac1d2952cf",
   "metadata": {},
   "source": [
    "### (c) 1. break, continue: Used to control the flow of loops."
   ]
  },
  {
   "cell_type": "code",
   "execution_count": 6,
   "id": "f0973b11-19a4-4c60-b135-d3c4d4efad67",
   "metadata": {},
   "outputs": [
    {
     "name": "stdout",
     "output_type": "stream",
     "text": [
      "0\n",
      "1\n",
      "2\n"
     ]
    }
   ],
   "source": [
    "for i in range(5):\n",
    "    if i == 3:\n",
    "        break\n",
    "    print(i)"
   ]
  },
  {
   "cell_type": "code",
   "execution_count": 7,
   "id": "9d305648-1657-4129-b40b-caf3b1b3a7ec",
   "metadata": {},
   "outputs": [
    {
     "name": "stdout",
     "output_type": "stream",
     "text": [
      "0\n",
      "1\n",
      "2\n",
      "4\n"
     ]
    }
   ],
   "source": [
    "for i in range(5):\n",
    "    if i == 3:\n",
    "        continue\n",
    "    print(i)"
   ]
  },
  {
   "cell_type": "markdown",
   "id": "099f2dd1-8cac-48ce-ad76-507f1d36ac3e",
   "metadata": {},
   "source": [
    "### These are just a few examples of the many predefined keywords in Python. By using these keywords, you can create structured, readable, and maintainable code."
   ]
  },
  {
   "cell_type": "markdown",
   "id": "e0686508-4aa1-4dd0-9b9a-08bb61618ce8",
   "metadata": {},
   "source": [
    "# Ques 3. Compare and contrast mutable and immutable objects in Python with examples."
   ]
  },
  {
   "cell_type": "markdown",
   "id": "15951126-8a04-42f0-b323-72e534e7ac23",
   "metadata": {},
   "source": [
    "### Ans 3. In Python, objects can be classified as mutable or immutable.\n",
    "## Mutable Objects:\n",
    "\n",
    "### - Can be changed after creation\n",
    "### - Value can be modified\n",
    "### - Reference remains the same\n",
    "\n",
    "### Examples:\n",
    "### (a) Lists :"
   ]
  },
  {
   "cell_type": "code",
   "execution_count": 9,
   "id": "ed64aace-0fc0-49e2-9f6c-9203a537c459",
   "metadata": {},
   "outputs": [
    {
     "name": "stdout",
     "output_type": "stream",
     "text": [
      "[1, 2, 3, 4]\n"
     ]
    }
   ],
   "source": [
    "my_list = [1, 2, 3]\n",
    "my_list.append(4)\n",
    "print(my_list)"
   ]
  },
  {
   "cell_type": "markdown",
   "id": "b18ed3f1-7512-4700-91e4-4170bb5e46ca",
   "metadata": {},
   "source": [
    "### (b) Dictionaries :"
   ]
  },
  {
   "cell_type": "code",
   "execution_count": 10,
   "id": "3dca34b1-5c4e-43bd-bccb-b0f69ad86c1d",
   "metadata": {},
   "outputs": [
    {
     "name": "stdout",
     "output_type": "stream",
     "text": [
      "{'a': 1, 'b': 2, 'c': 3}\n"
     ]
    }
   ],
   "source": [
    "my_dict = {'a': 1, 'b': 2}\n",
    "my_dict['c'] = 3\n",
    "print(my_dict)"
   ]
  },
  {
   "cell_type": "markdown",
   "id": "73875991-45eb-411a-902e-bb94803c9288",
   "metadata": {},
   "source": [
    "### (c) Sets :"
   ]
  },
  {
   "cell_type": "code",
   "execution_count": 11,
   "id": "5505d17d-322e-4a33-8fe3-41e2b475f30a",
   "metadata": {},
   "outputs": [
    {
     "name": "stdout",
     "output_type": "stream",
     "text": [
      "{1, 2, 3, 4}\n"
     ]
    }
   ],
   "source": [
    "my_set = {1, 2, 3}\n",
    "my_set.add(4)\n",
    "print(my_set)"
   ]
  },
  {
   "cell_type": "markdown",
   "id": "cd778a2c-2f58-4d7c-9adc-d6fefafe7e93",
   "metadata": {},
   "source": [
    "## Immutable Objects:\n",
    "\n",
    "### - Cannot be changed after creation\n",
    "### - Value cannot be modified\n",
    "### - Reference remains the same\n",
    "\n",
    "### Examples:\n",
    "### (a) Integers:"
   ]
  },
  {
   "cell_type": "code",
   "execution_count": 14,
   "id": "3e69d9db-af16-4dc2-b33a-163031e670d6",
   "metadata": {},
   "outputs": [],
   "source": [
    "x = 5\n",
    "x += 1  # creates a new integer object, does not modify the original"
   ]
  },
  {
   "cell_type": "markdown",
   "id": "acd14227-0c81-4adb-8bc4-8919be18b1c0",
   "metadata": {},
   "source": [
    "### (b) Floats:"
   ]
  },
  {
   "cell_type": "code",
   "execution_count": null,
   "id": "e0dfaf47-4b99-4037-a1e2-183dfcb01122",
   "metadata": {},
   "outputs": [],
   "source": [
    "x = 3.14\n",
    "x += 0.01  # creates a new float object, does not modify the original"
   ]
  },
  {
   "cell_type": "markdown",
   "id": "3c938088-4089-45f3-a2c5-0e29e6f0f1ba",
   "metadata": {},
   "source": [
    "### (c) Strings:"
   ]
  },
  {
   "cell_type": "code",
   "execution_count": 15,
   "id": "806436ef-0337-4006-8ce4-278b8b034e24",
   "metadata": {},
   "outputs": [],
   "source": [
    "s = \"hello\"\n",
    "s += \" world\"  # creates a new string object, does not modify the original"
   ]
  },
  {
   "cell_type": "markdown",
   "id": "ced05aec-53b6-403c-92ab-fd1c8e13c821",
   "metadata": {},
   "source": [
    "### (d) 1. Tuples:"
   ]
  },
  {
   "cell_type": "code",
   "execution_count": 16,
   "id": "2f9bbb82-13e8-4f73-8673-e64929284245",
   "metadata": {},
   "outputs": [],
   "source": [
    "t = (1, 2, 3)\n",
    "t += (4,)  # creates a new tuple object, does not modify the original"
   ]
  },
  {
   "cell_type": "markdown",
   "id": "de8efd3d-3f63-40a5-b25c-5a0db4609096",
   "metadata": {},
   "source": [
    "### (e) Boolean:"
   ]
  },
  {
   "cell_type": "code",
   "execution_count": 17,
   "id": "113e84b1-219e-43e4-8c06-708dd15059f8",
   "metadata": {},
   "outputs": [],
   "source": [
    "b = True\n",
    "b = False  # creates a new boolean object, does not modify the original"
   ]
  },
  {
   "cell_type": "markdown",
   "id": "98c2c2ac-f93d-4ca5-9874-e5966ea22c54",
   "metadata": {},
   "source": [
    "### Note that attempting to modify an immutable object will result in a new object being created, rather than modifying the original object. This is in contrast to mutable objects, which can be modified in place.\n",
    "\n",
    "### Also, keep in mind that while the objects themselves are immutable, the variables that reference them can be reassigned to new objects."
   ]
  },
  {
   "cell_type": "markdown",
   "id": "fe697be9-9c96-4350-baf6-b57e34da05a9",
   "metadata": {},
   "source": [
    "# Ques 4. Discuss the different types of operators in Python and provide examples of how they are used."
   ]
  },
  {
   "cell_type": "markdown",
   "id": "dc0c95d7-2b80-4f5b-a5f4-517fa99b7202",
   "metadata": {},
   "source": [
    "### Ans 4. Python has various types of operators for performing different operations. Here are some of the most commonly used operators in Python, along with examples:\n",
    "\n",
    "## (a) 1. Arithmetic Operators:\n",
    "\n",
    "###    - Addition: a + b\n",
    "###    - Subtraction: a - b\n",
    "###    - Multiplication: a * b\n",
    "###    - Division: a / b\n",
    "###    - Modulus: a % b\n",
    "###    - Exponentiation: a ** b"
   ]
  },
  {
   "cell_type": "code",
   "execution_count": 19,
   "id": "beec696e-1ca4-4254-91b2-641377aafb6e",
   "metadata": {},
   "outputs": [
    {
     "name": "stdout",
     "output_type": "stream",
     "text": [
      "7\n",
      "3\n",
      "10\n",
      "2.5\n",
      "1\n",
      "25\n"
     ]
    }
   ],
   "source": [
    "x = 5; y = 2;\n",
    "print(x + y)\n",
    "print(x - y)\n",
    "print(x * y)\n",
    "print(x / y)\n",
    "print(x % y)\n",
    "print(x ** y)"
   ]
  },
  {
   "cell_type": "markdown",
   "id": "5749e659-0fb8-4cd3-804c-9bad06e2655b",
   "metadata": {},
   "source": [
    "## (b) 1. Comparison Operators:\n",
    "\n",
    "###    - Equal: a == b\n",
    "###    - Not Equal: a != b\n",
    "###    - Greater Than: a > b\n",
    "###    - Less Than: a < b\n",
    "###    - Greater Than or Equal: a >= b\n",
    "###    - Less Than or Equal: a <= b"
   ]
  },
  {
   "cell_type": "code",
   "execution_count": 20,
   "id": "2080315e-7da6-4578-a346-dca493dfee4f",
   "metadata": {},
   "outputs": [
    {
     "name": "stdout",
     "output_type": "stream",
     "text": [
      "True\n",
      "False\n",
      "False\n",
      "True\n",
      "False\n",
      "True\n"
     ]
    }
   ],
   "source": [
    "x = 5; y = 2;\n",
    "print(x > y)\n",
    "print(x < y)\n",
    "print(x == y)\n",
    "print(x >= y)\n",
    "print(x <= y)\n",
    "print(x != y)"
   ]
  },
  {
   "cell_type": "markdown",
   "id": "60599bd0-8668-4640-a827-85bed59e0e98",
   "metadata": {},
   "source": [
    "## (c) Assignment Operators:\n",
    "\n",
    "###    - Assign: a = b\n",
    "###    - Add and Assign: a += b\n",
    "###    - Subtract and Assign: a -= b\n",
    "###    - Multiply and Assign: a *= b\n",
    "###    - Divide and Assign: a /= b\n",
    "###    - Modulus and Assign: a %= b"
   ]
  },
  {
   "cell_type": "code",
   "execution_count": 21,
   "id": "637fb274-62cc-42b4-8e95-b06a36e22347",
   "metadata": {},
   "outputs": [
    {
     "name": "stdout",
     "output_type": "stream",
     "text": [
      "7\n"
     ]
    }
   ],
   "source": [
    "x = 5;\n",
    "x += 2;\n",
    "print(x)"
   ]
  },
  {
   "cell_type": "code",
   "execution_count": 22,
   "id": "91bd7276-3c70-43a1-bdff-812fee93651f",
   "metadata": {},
   "outputs": [
    {
     "name": "stdout",
     "output_type": "stream",
     "text": [
      "9\n"
     ]
    }
   ],
   "source": [
    "x+=2\n",
    "print(x)"
   ]
  },
  {
   "cell_type": "markdown",
   "id": "ad150d20-d98e-4f52-a78c-c8dece0a5c07",
   "metadata": {},
   "source": [
    "## (d) Logical Operators:\n",
    "\n",
    "###    - And: a and b\n",
    "###    - Or: a or b\n",
    "###    - Not: not a"
   ]
  },
  {
   "cell_type": "code",
   "execution_count": 23,
   "id": "8e1eb69c-3284-410f-a9c0-21f7e95964ef",
   "metadata": {},
   "outputs": [
    {
     "name": "stdout",
     "output_type": "stream",
     "text": [
      "True\n"
     ]
    }
   ],
   "source": [
    "x = 5; y = 2;\n",
    "print(x > 3 and y < 4)"
   ]
  },
  {
   "cell_type": "markdown",
   "id": "5905cb88-7869-4885-a1c4-653b878bc941",
   "metadata": {},
   "source": [
    "### These are the basic types of operators in Python. Understanding how to use them is essential for writing effective Python code."
   ]
  },
  {
   "cell_type": "markdown",
   "id": "261f4c79-f950-4cb8-a3d8-960a577c739d",
   "metadata": {},
   "source": [
    "# Ques 5. explain the concept of type casting in Python with examples."
   ]
  },
  {
   "cell_type": "markdown",
   "id": "ab277ba9-ceed-4194-b99b-c99a71d67bc3",
   "metadata": {},
   "source": [
    "### Ans 5. Type casting in Python refers to the process of converting a variable's data type into another data type. This is done using the built-in functions like int(), float(), str(), etc.\n",
    "\n",
    "### Here are some examples:"
   ]
  },
  {
   "cell_type": "code",
   "execution_count": 24,
   "id": "e17f16af-82a5-40ef-80fd-d1be6207bf8c",
   "metadata": {},
   "outputs": [
    {
     "name": "stdout",
     "output_type": "stream",
     "text": [
      "5.0\n"
     ]
    }
   ],
   "source": [
    "## 1. Converting an integer to a float:\n",
    "\n",
    "x = 5\n",
    "y = float(x)\n",
    "print(y)"
   ]
  },
  {
   "cell_type": "code",
   "execution_count": 26,
   "id": "05a93d92-c04b-401a-a92e-b35240051f0c",
   "metadata": {},
   "outputs": [
    {
     "name": "stdout",
     "output_type": "stream",
     "text": [
      "5\n"
     ]
    }
   ],
   "source": [
    "## 2. Converting a float to an integer:\n",
    "\n",
    "x = 5.5\n",
    "y = int(x)\n",
    "print(y)"
   ]
  },
  {
   "cell_type": "code",
   "execution_count": 27,
   "id": "cb2484ad-2eb3-4615-a3e7-49ac9fff7615",
   "metadata": {},
   "outputs": [
    {
     "name": "stdout",
     "output_type": "stream",
     "text": [
      "5\n"
     ]
    }
   ],
   "source": [
    "## 3. Converting a string to an integer:\n",
    "\n",
    "x = \"5\"\n",
    "y = int(x)\n",
    "print(y)"
   ]
  },
  {
   "cell_type": "code",
   "execution_count": 28,
   "id": "c48188d0-e0a3-4c5e-83ec-2a72617a1baf",
   "metadata": {},
   "outputs": [
    {
     "name": "stdout",
     "output_type": "stream",
     "text": [
      "5.5\n"
     ]
    }
   ],
   "source": [
    "## 4. Converting a string to a float:\n",
    "\n",
    "x = \"5.5\"\n",
    "y = float(x)\n",
    "print(y)"
   ]
  },
  {
   "cell_type": "code",
   "execution_count": 29,
   "id": "b88b846e-cb42-42cd-989d-7793dc48e486",
   "metadata": {},
   "outputs": [
    {
     "name": "stdout",
     "output_type": "stream",
     "text": [
      "(1, 2, 3)\n"
     ]
    }
   ],
   "source": [
    "## 5. Converting a list to a tuple:\n",
    "\n",
    "x = [1, 2, 3]\n",
    "y = tuple(x)\n",
    "print(y)"
   ]
  },
  {
   "cell_type": "code",
   "execution_count": 30,
   "id": "61a3da4c-f5e8-416f-bd77-305e0a4791c1",
   "metadata": {},
   "outputs": [
    {
     "name": "stdout",
     "output_type": "stream",
     "text": [
      "[1, 2, 3]\n"
     ]
    }
   ],
   "source": [
    "## 6. Converting a tuple to a list:\n",
    "\n",
    "x = (1, 2, 3)\n",
    "y = list(x)\n",
    "print(y)"
   ]
  },
  {
   "cell_type": "markdown",
   "id": "6ceabb58-eb0c-4203-9dad-ab9f0d8200ba",
   "metadata": {},
   "source": [
    "### Note that some type casts may result in loss of data or precision. For example, converting a float to an integer will truncate the decimal part.\n",
    "\n",
    "### Also, some type casts may raise errors if the conversion is not possible. For example, converting a string that doesn't represent a number to an integer or float will raise a ValueError."
   ]
  },
  {
   "cell_type": "markdown",
   "id": "833e7eea-4537-4255-a41c-b492cdb82b89",
   "metadata": {},
   "source": [
    "# Ques 6. How do conditional statements work in Python? Illustrate with examples."
   ]
  },
  {
   "cell_type": "markdown",
   "id": "9ef30bc4-6e3c-4b91-a533-d30a60fc4a04",
   "metadata": {},
   "source": [
    "### Ans 6. Conditional statements in Python are used to execute different blocks of code based on certain conditions. They are also known as control structures.\n",
    "\n",
    "### Here are some examples of conditional statements in Python:"
   ]
  },
  {
   "cell_type": "code",
   "execution_count": 32,
   "id": "2bfb63a7-3a7d-49c8-938a-3fe033abb3a9",
   "metadata": {},
   "outputs": [
    {
     "name": "stdout",
     "output_type": "stream",
     "text": [
      "x is less than or equal to 10\n"
     ]
    }
   ],
   "source": [
    "## 1. If statement:\n",
    "\n",
    "x = 5\n",
    "if x > 10:\n",
    "    print(\"x is greater than 10\")\n",
    "else:\n",
    "    print(\"x is less than or equal to 10\")"
   ]
  },
  {
   "cell_type": "code",
   "execution_count": 33,
   "id": "6024ec0b-791f-40cc-b56f-bad91bc1d13b",
   "metadata": {},
   "outputs": [
    {
     "name": "stdout",
     "output_type": "stream",
     "text": [
      "x is equal to 5\n"
     ]
    }
   ],
   "source": [
    "## 2. If-else statement:\n",
    "\n",
    "x = 5\n",
    "if x > 10:\n",
    "    print(\"x is greater than 10\")\n",
    "elif x == 5:\n",
    "    print(\"x is equal to 5\")\n",
    "else:\n",
    "    print(\"x is less than 5\")"
   ]
  },
  {
   "cell_type": "code",
   "execution_count": 35,
   "id": "3b22e4e3-d6ea-4369-9e28-0012fa9882af",
   "metadata": {},
   "outputs": [
    {
     "name": "stdout",
     "output_type": "stream",
     "text": [
      "x is less than or equal to 10\n"
     ]
    }
   ],
   "source": [
    "## 3. Nested if statement:\n",
    "\n",
    "x = 5\n",
    "if x > 10:\n",
    "    if x % 2 == 0:\n",
    "        print(\"x is greater than 10 and even\")\n",
    "    else:\n",
    "        print(\"x is greater than 10 and odd\")\n",
    "else:\n",
    "    print(\"x is less than or equal to 10\")"
   ]
  },
  {
   "cell_type": "code",
   "execution_count": 36,
   "id": "fd3672a2-0984-4a02-b490-d016b0ff7fb6",
   "metadata": {},
   "outputs": [
    {
     "name": "stdout",
     "output_type": "stream",
     "text": [
      "x is less than or equal to 10\n"
     ]
    }
   ],
   "source": [
    "## 4. Conditional expressions (ternary operator):\n",
    "\n",
    "x = 5\n",
    "result = \"x is greater than 10\" if x > 10 else \"x is less than or equal to 10\"\n",
    "print(result)"
   ]
  },
  {
   "cell_type": "markdown",
   "id": "40f7dcd8-88c9-4364-b650-3dd24a267f3a",
   "metadata": {},
   "source": [
    "### These are some basic examples of conditional statements in Python. You can use them to control the flow of your program based on different conditions."
   ]
  },
  {
   "cell_type": "markdown",
   "id": "6b38c091-e744-4ff0-b564-2d1d9afeb506",
   "metadata": {},
   "source": [
    "# Ques 7. Desrcibe the different types of loops in Python and their use cases with examples."
   ]
  },
  {
   "cell_type": "markdown",
   "id": "df95ff83-02a6-41f6-821d-bd17f99bfd5a",
   "metadata": {},
   "source": [
    "### Ans 7. Python has two main types of loops: for loops and while loops.\n",
    "\n",
    "### 1. For loops:\n",
    "###    - Used for iterating over a sequence (such as a list, tuple, or string) or other iterable objects.\n",
    "###    - Syntax: for variable in iterable:"
   ]
  },
  {
   "cell_type": "code",
   "execution_count": 37,
   "id": "199664f7-3eb3-4b27-97a7-c6d427e11dcd",
   "metadata": {},
   "outputs": [
    {
     "name": "stdout",
     "output_type": "stream",
     "text": [
      "apple\n",
      "banana\n",
      "cherry\n"
     ]
    }
   ],
   "source": [
    "fruits = ['apple', 'banana', 'cherry'];\n",
    "for fruit in fruits:\n",
    "    print(fruit)"
   ]
  },
  {
   "cell_type": "markdown",
   "id": "4c8970d9-0a67-4e29-95b3-f5db66decb3f",
   "metadata": {},
   "source": [
    "### 2. While loops:\n",
    "###    - Used for repeating a block of code as long as a certain condition is true.\n",
    "###    - Syntax: while condition:"
   ]
  },
  {
   "cell_type": "code",
   "execution_count": 38,
   "id": "e41928b8-f55a-41f0-9b65-75abd22de137",
   "metadata": {},
   "outputs": [
    {
     "name": "stdout",
     "output_type": "stream",
     "text": [
      "0\n",
      "1\n",
      "2\n",
      "3\n",
      "4\n"
     ]
    }
   ],
   "source": [
    "i = 0;\n",
    "while i < 5:\n",
    "    print(i); i += 1"
   ]
  },
  {
   "cell_type": "markdown",
   "id": "b2eba850-5e69-4175-889b-62a6c97a3be8",
   "metadata": {},
   "source": [
    "## Additional loop types:\n",
    "\n",
    "### 1. Nested loops:\n",
    "###    - Used for iterating over multiple sequences or performing multiple iterations."
   ]
  },
  {
   "cell_type": "code",
   "execution_count": 39,
   "id": "a0f2f1d8-ec6b-4dfb-b40b-7eed2be3994e",
   "metadata": {},
   "outputs": [
    {
     "name": "stdout",
     "output_type": "stream",
     "text": [
      "red circle\n",
      "red square\n",
      "red triangle\n",
      "green circle\n",
      "green square\n",
      "green triangle\n",
      "blue circle\n",
      "blue square\n",
      "blue triangle\n"
     ]
    }
   ],
   "source": [
    "colors = ['red', 'green', 'blue'];\n",
    "shapes = ['circle', 'square', 'triangle'];\n",
    "for color in colors:\n",
    "    for shape in shapes:\n",
    "        print(color, shape)"
   ]
  },
  {
   "cell_type": "markdown",
   "id": "eb685c79-e4e9-4615-bb36-335beb46d778",
   "metadata": {},
   "source": [
    "### 2. Infinite loops:\n",
    "###    - Used for repeating a block of code indefinitely (use with caution!)."
   ]
  },
  {
   "cell_type": "code",
   "execution_count": null,
   "id": "c687dca9-5635-4aec-8c92-9e2822c6f87a",
   "metadata": {},
   "outputs": [],
   "source": [
    "while True:\n",
    "    print(\"Hello, world!\")"
   ]
  },
  {
   "cell_type": "markdown",
   "id": "7c333b2a-c799-4ef4-9211-a323fccb2df4",
   "metadata": {},
   "source": [
    "### 3. Loop control statements:\n",
    "###    - break: Exits the loop prematurely.\n",
    "###    - continue: Skips the current iteration and moves to the next one.\n",
    "###    - pass: Does nothing and moves to the next iteration."
   ]
  },
  {
   "cell_type": "markdown",
   "id": "a39cfbe4-af1e-4843-a717-ffa124710e52",
   "metadata": {},
   "source": [
    "### Use cases:\n",
    "\n",
    "### - For loops: Iterating over data structures, performing batch processing, or executing a block of code for each item in a collection.\n",
    "### - While loops: Repeating a task until a condition is met, such as waiting for user input or monitoring a variable.\n",
    "### - Nested loops: Performing complex iterations or generating combinations of data.\n",
    "### - Infinite loops: Creating a continuous loop for tasks like monitoring or animation (use with caution!)."
   ]
  },
  {
   "cell_type": "code",
   "execution_count": null,
   "id": "2b7a52b9-ce5e-4e95-804b-46f4a8a315f9",
   "metadata": {},
   "outputs": [],
   "source": []
  }
 ],
 "metadata": {
  "kernelspec": {
   "display_name": "Python 3 (ipykernel)",
   "language": "python",
   "name": "python3"
  },
  "language_info": {
   "codemirror_mode": {
    "name": "ipython",
    "version": 3
   },
   "file_extension": ".py",
   "mimetype": "text/x-python",
   "name": "python",
   "nbconvert_exporter": "python",
   "pygments_lexer": "ipython3",
   "version": "3.12.5"
  }
 },
 "nbformat": 4,
 "nbformat_minor": 5
}
